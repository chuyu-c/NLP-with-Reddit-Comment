{
 "cells": [
  {
   "cell_type": "code",
   "execution_count": 1,
   "metadata": {},
   "outputs": [],
   "source": [
    "from pyspark.sql import SparkSession\n",
    "from pyspark.sql import HiveContext\n",
    "from pyspark.sql import functions as F\n",
    "\n",
    "import matplotlib.pyplot as plt\n",
    "%matplotlib inline"
   ]
  },
  {
   "cell_type": "code",
   "execution_count": 2,
   "metadata": {},
   "outputs": [],
   "source": [
    "import pandas as pd\n",
    "import numpy as np\n",
    "import seaborn as sns"
   ]
  },
  {
   "cell_type": "code",
   "execution_count": 3,
   "metadata": {},
   "outputs": [],
   "source": [
    "#create Spark session\n",
    "spark = SparkSession.builder.appName('reddit').getOrCreate()\n",
    "\n",
    "#change configuration settings on Spark \n",
    "conf = spark.sparkContext._conf.setAll([('spark.executor.memory', '5g'), ('spark.app.name', 'Spark Updated Conf'), ('spark.executor.cores', '4'), ('spark.cores.max', '4'), ('spark.driver.memory','8g')])\n",
    "\n",
    "#print spark configuration settings\n",
    "#spark.sparkContext.getConf().getAll()"
   ]
  },
  {
   "cell_type": "code",
   "execution_count": 4,
   "metadata": {},
   "outputs": [
    {
     "name": "stdout",
     "output_type": "stream",
     "text": [
      "WARNING: log4j.properties is not found. HADOOP_CONF_DIR may be incomplete.\n",
      "Java HotSpot(TM) 64-Bit Server VM warning: ignoring option MaxPermSize=512M; support was removed in 8.0\n",
      "-rw-r--r--   3 caixinya caixinya 4996487914 2021-11-17 11:07 /user/caixinya/data/Reddit_5G.csv\n",
      "-rw-r--r--   3 caixinya caixinya 1406097363 2021-11-30 19:05 /user/caixinya/data/Reddit_data_cleaned.csv\n",
      "drwxr-xr-x   - caixinya caixinya          0 2021-11-13 15:16 /user/caixinya/data/airport\n",
      "-rw-r--r--   3 caixinya caixinya    8905734 2021-11-13 15:16 /user/caixinya/data/airport/airports.json\n",
      "-rw-r--r--   3 caixinya caixinya     968006 2021-11-13 15:16 /user/caixinya/data/airport/airports1.json\n",
      "-rw-r--r--   3 caixinya caixinya    9719582 2021-11-13 15:16 /user/caixinya/data/airport/flights.csv\n",
      "-rw-r--r--   3 caixinya caixinya       1254 2021-11-11 09:22 /user/caixinya/data/chicago_community.csv\n",
      "drwxr-xr-x   - caixinya caixinya          0 2021-11-12 11:56 /user/caixinya/data/covid_table\n",
      "-rwxr-xr-x   3 caixinya caixinya      95729 2021-11-12 11:49 /user/caixinya/data/covid_table/covid.csv\n",
      "-rwxr-xr-x   3 caixinya caixinya 1754698386 2021-11-12 11:47 /user/caixinya/data/crimes.csv\n",
      "-rw-r--r--   3 caixinya caixinya  208276005 2021-11-06 13:46 /user/caixinya/data/food-inspections.csv\n",
      "-rw-r--r--   3 caixinya caixinya   77447891 2021-11-22 12:30 /user/caixinya/data/mpst_full_data.csv\n",
      "-rw-r--r--   3 caixinya caixinya       4133 2021-11-23 17:08 /user/caixinya/data/ten_public_movie.csv\n"
     ]
    }
   ],
   "source": [
    "!hdfs dfs -ls -R /user/caixinya/data"
   ]
  },
  {
   "cell_type": "code",
   "execution_count": 5,
   "metadata": {},
   "outputs": [
    {
     "name": "stdout",
     "output_type": "stream",
     "text": [
      "WARNING: log4j.properties is not found. HADOOP_CONF_DIR may be incomplete.\n",
      "Java HotSpot(TM) 64-Bit Server VM warning: ignoring option MaxPermSize=512M; support was removed in 8.0\n",
      "4996487914  14989463742  /user/caixinya/data/Reddit_5G.csv\n"
     ]
    }
   ],
   "source": [
    "!hdfs dfs -du  /user/caixinya/data/Reddit_5G.csv"
   ]
  },
  {
   "cell_type": "markdown",
   "metadata": {},
   "source": [
    "## 1. Import Data"
   ]
  },
  {
   "cell_type": "code",
   "execution_count": 6,
   "metadata": {},
   "outputs": [],
   "source": [
    "df = spark.read \\\n",
    "    .option(\"delimiter\",\",\") \\\n",
    "    .option(\"multiLine\",\"true\") \\\n",
    "    .option(\"quote\", \"\\\"\")  \\\n",
    "    .option(\"escape\", \"\\\"\") \\\n",
    "    .option(\"ignoreLeadingWhiteSpace\",True) \\\n",
    "    .csv(\"/user/caixinya/data/Reddit_data_cleaned.csv\",inferSchema=True, header=True)"
   ]
  },
  {
   "cell_type": "code",
   "execution_count": 7,
   "metadata": {},
   "outputs": [
    {
     "name": "stdout",
     "output_type": "stream",
     "text": [
      "root\n",
      " |-- body: string (nullable = true)\n",
      " |-- clean_comment: string (nullable = true)\n",
      " |-- category: integer (nullable = true)\n",
      "\n"
     ]
    }
   ],
   "source": [
    "df.printSchema()"
   ]
  },
  {
   "cell_type": "code",
   "execution_count": 8,
   "metadata": {},
   "outputs": [
    {
     "name": "stdout",
     "output_type": "stream",
     "text": [
      "+--------------------+--------------------+--------+\n",
      "|                body|       clean_comment|category|\n",
      "+--------------------+--------------------+--------+\n",
      "|gg this one's ove...|this one over off...|       0|\n",
      "|No one has a Euro...|one has european ...|       0|\n",
      "|That the kid \"..r...|that the kid remi...|      -1|\n",
      "|                NSFL|                nsfl|       0|\n",
      "|Get back to your ...|get back your pot...|       0|\n",
      "|Me too. Same hamm...|too same hammock ...|       0|\n",
      "|well i think new ...|well think new as...|       1|\n",
      "|I'm a guy and I h...|guy and had idea ...|       0|\n",
      "|Mid twenties male...|mid twenties male...|       1|\n",
      "|Because we aren't...|because aren resp...|       1|\n",
      "+--------------------+--------------------+--------+\n",
      "only showing top 10 rows\n",
      "\n"
     ]
    }
   ],
   "source": [
    "df.show(10)"
   ]
  },
  {
   "cell_type": "code",
   "execution_count": 9,
   "metadata": {},
   "outputs": [
    {
     "name": "stdout",
     "output_type": "stream",
     "text": [
      "+-------+-------------------+\n",
      "|summary|           category|\n",
      "+-------+-------------------+\n",
      "|  count|            4864688|\n",
      "|   mean|0.18691332311548037|\n",
      "| stddev| 0.7967911112011219|\n",
      "|    min|                 -1|\n",
      "|    max|                  1|\n",
      "+-------+-------------------+\n",
      "\n"
     ]
    }
   ],
   "source": [
    "df.select('category').describe().show()"
   ]
  },
  {
   "cell_type": "markdown",
   "metadata": {},
   "source": [
    "## 2. Feature Engineering"
   ]
  },
  {
   "cell_type": "markdown",
   "metadata": {},
   "source": [
    "### Drop NA values"
   ]
  },
  {
   "cell_type": "code",
   "execution_count": 10,
   "metadata": {},
   "outputs": [
    {
     "name": "stdout",
     "output_type": "stream",
     "text": [
      "+----+-------------+--------+\n",
      "|body|clean_comment|category|\n",
      "+----+-------------+--------+\n",
      "|   1|        15366|       0|\n",
      "+----+-------------+--------+\n",
      "\n"
     ]
    }
   ],
   "source": [
    "#Find the number of missing values for each column\n",
    "from pyspark.sql.functions import isnan, when, count, col\n",
    "df.select([count(when(df[c].isNull(), c)).alias(c) for c in df.columns]).show()"
   ]
  },
  {
   "cell_type": "code",
   "execution_count": 11,
   "metadata": {},
   "outputs": [
    {
     "name": "stdout",
     "output_type": "stream",
     "text": [
      "+----+-------------+--------+\n",
      "|body|clean_comment|category|\n",
      "+----+-------------+--------+\n",
      "|   0|            0|       0|\n",
      "+----+-------------+--------+\n",
      "\n"
     ]
    }
   ],
   "source": [
    "df = df.na.drop()\n",
    "df.select([count(when(df[c].isNull(), c)).alias(c) for c in df.columns]).show()"
   ]
  },
  {
   "cell_type": "markdown",
   "metadata": {},
   "source": [
    "### Remove White Spaces, Punctuation,  and Noises"
   ]
  },
  {
   "cell_type": "code",
   "execution_count": 12,
   "metadata": {},
   "outputs": [],
   "source": [
    "import re\n",
    "from pyspark.sql.functions import regexp_replace, trim, col, lower"
   ]
  },
  {
   "cell_type": "code",
   "execution_count": 13,
   "metadata": {},
   "outputs": [],
   "source": [
    "def removePunctuation(column):\n",
    "    \"\"\"Removes punctuation, changes to lower case, and strips leading and trailing spaces.\n",
    "\n",
    "    Note:\n",
    "        Only spaces, letters, and numbers should be retained.  \n",
    "\n",
    "    Args:\n",
    "        column (Column): A Column containing a sentence.\n",
    "\n",
    "    Returns:\n",
    "        Column: A Column named 'sentence' with clean-up operations applied.\n",
    "    \"\"\"\n",
    "    return lower(trim(regexp_replace(column,'\\\\p{Punct}',''))).alias('sentence')"
   ]
  },
  {
   "cell_type": "code",
   "execution_count": 14,
   "metadata": {},
   "outputs": [],
   "source": [
    "df = df.withColumn('clean_comment', removePunctuation(col('clean_comment')))"
   ]
  },
  {
   "cell_type": "code",
   "execution_count": 15,
   "metadata": {},
   "outputs": [
    {
     "name": "stdout",
     "output_type": "stream",
     "text": [
      "+--------------------+--------------------+--------+\n",
      "|                body|       clean_comment|category|\n",
      "+--------------------+--------------------+--------+\n",
      "|gg this one's ove...|this one over off...|       0|\n",
      "|No one has a Euro...|one has european ...|       0|\n",
      "|That the kid \"..r...|that the kid remi...|      -1|\n",
      "|                NSFL|                nsfl|       0|\n",
      "|Get back to your ...|get back your pot...|       0|\n",
      "|Me too. Same hamm...|too same hammock ...|       0|\n",
      "|well i think new ...|well think new as...|       1|\n",
      "|I'm a guy and I h...|guy and had idea ...|       0|\n",
      "|Mid twenties male...|mid twenties male...|       1|\n",
      "|Because we aren't...|because aren resp...|       1|\n",
      "+--------------------+--------------------+--------+\n",
      "only showing top 10 rows\n",
      "\n"
     ]
    }
   ],
   "source": [
    "df.show(10)"
   ]
  },
  {
   "cell_type": "code",
   "execution_count": 16,
   "metadata": {},
   "outputs": [],
   "source": [
    "## some rows have noises, we want to filter out those rows\n",
    "df = df.where(F.length(col(\"clean_comment\")) >= 10)"
   ]
  },
  {
   "cell_type": "markdown",
   "metadata": {},
   "source": [
    "### Plot Score Histogram"
   ]
  },
  {
   "cell_type": "code",
   "execution_count": 17,
   "metadata": {},
   "outputs": [],
   "source": [
    "df = df.filter(F.col(\"category\").cast(\"int\").isNotNull())"
   ]
  },
  {
   "cell_type": "code",
   "execution_count": 18,
   "metadata": {},
   "outputs": [
    {
     "data": {
      "text/html": [
       "<div>\n",
       "<style scoped>\n",
       "    .dataframe tbody tr th:only-of-type {\n",
       "        vertical-align: middle;\n",
       "    }\n",
       "\n",
       "    .dataframe tbody tr th {\n",
       "        vertical-align: top;\n",
       "    }\n",
       "\n",
       "    .dataframe thead th {\n",
       "        text-align: right;\n",
       "    }\n",
       "</style>\n",
       "<table border=\"1\" class=\"dataframe\">\n",
       "  <thead>\n",
       "    <tr style=\"text-align: right;\">\n",
       "      <th></th>\n",
       "      <th>category</th>\n",
       "      <th>count</th>\n",
       "    </tr>\n",
       "  </thead>\n",
       "  <tbody>\n",
       "    <tr>\n",
       "      <th>0</th>\n",
       "      <td>-1</td>\n",
       "      <td>1166145</td>\n",
       "    </tr>\n",
       "    <tr>\n",
       "      <th>1</th>\n",
       "      <td>1</td>\n",
       "      <td>2070589</td>\n",
       "    </tr>\n",
       "    <tr>\n",
       "      <th>2</th>\n",
       "      <td>0</td>\n",
       "      <td>1450007</td>\n",
       "    </tr>\n",
       "  </tbody>\n",
       "</table>\n",
       "</div>"
      ],
      "text/plain": [
       "   category    count\n",
       "0        -1  1166145\n",
       "1         1  2070589\n",
       "2         0  1450007"
      ]
     },
     "execution_count": 18,
     "metadata": {},
     "output_type": "execute_result"
    }
   ],
   "source": [
    "g1 = df.groupby(\"category\").count().toPandas()\n",
    "#g1 = g1.dropna()\n",
    "g1.head()"
   ]
  },
  {
   "cell_type": "code",
   "execution_count": 19,
   "metadata": {},
   "outputs": [
    {
     "data": {
      "text/plain": [
       "<matplotlib.axes._subplots.AxesSubplot at 0x7f4c95a6f898>"
      ]
     },
     "execution_count": 19,
     "metadata": {},
     "output_type": "execute_result"
    },
    {
     "data": {
      "image/png": "[encoded data removed]",
      "text/plain": [
       "<Figure size 432x288 with 1 Axes>"
      ]
     },
     "metadata": {},
     "output_type": "display_data"
    }
   ],
   "source": [
    "g1.plot.bar(x='category', y='count')"
   ]
  },
  {
   "cell_type": "markdown",
   "metadata": {},
   "source": [
    "## 3. Build NLP Pipeline"
   ]
  },
  {
   "cell_type": "code",
   "execution_count": 20,
   "metadata": {},
   "outputs": [],
   "source": [
    "from pyspark.ml.feature import Normalizer, Tokenizer, RegexTokenizer, StopWordsRemover, HashingTF, IDF, VectorAssembler, StringIndexer, IndexToString\n",
    "from pyspark.ml import Pipeline"
   ]
  },
  {
   "cell_type": "markdown",
   "metadata": {},
   "source": [
    "### 3.1 Pipeline"
   ]
  },
  {
   "cell_type": "code",
   "execution_count": 21,
   "metadata": {},
   "outputs": [],
   "source": [
    "tokenizer = RegexTokenizer(inputCol=\"clean_comment\", outputCol=\"token\")\n",
    "remover = StopWordsRemover(inputCol=\"token\", outputCol=\"filtered\")\n",
    "hashingTF = HashingTF(inputCol=\"filtered\", outputCol=\"tf\", numFeatures=10000)\n",
    "idf = IDF(inputCol=\"tf\", outputCol=\"features\", minDocFreq=20)\n",
    "label_stringIdx = StringIndexer(inputCol = \"category\", outputCol = \"label\")"
   ]
  },
  {
   "cell_type": "code",
   "execution_count": 22,
   "metadata": {},
   "outputs": [],
   "source": [
    "pipeline = Pipeline(\n",
    "    stages=[tokenizer,\n",
    "            remover,\n",
    "            hashingTF,\n",
    "            idf,\n",
    "            label_stringIdx])"
   ]
  },
  {
   "cell_type": "code",
   "execution_count": 23,
   "metadata": {},
   "outputs": [
    {
     "name": "stdout",
     "output_type": "stream",
     "text": [
      "+--------------------+--------------------+--------+--------------------+--------------------+--------------------+--------------------+-----+\n",
      "|                body|       clean_comment|category|               token|            filtered|                  tf|            features|label|\n",
      "+--------------------+--------------------+--------+--------------------+--------------------+--------------------+--------------------+-----+\n",
      "|gg this one's ove...|this one over off...|       0|[this, one, over,...|[one, watch, nfl,...|(10000,[1285,2044...|(10000,[1285,2044...|  1.0|\n",
      "|No one has a Euro...|one has european ...|       0|[one, has, europe...|[one, european, a...|(10000,[1067,1500...|(10000,[1067,1500...|  1.0|\n",
      "|That the kid \"..r...|that the kid remi...|      -1|[that, the, kid, ...|[kid, reminds, ke...|(10000,[1740,6519...|(10000,[1740,6519...|  2.0|\n",
      "|Get back to your ...|get back your pot...|       0|[get, back, your,...|[get, back, pott,...|(10000,[1402,1959...|(10000,[1402,1959...|  1.0|\n",
      "|Me too. Same hamm...|too same hammock ...|       0|[too, same, hammo...|   [hammock, fabric]|(10000,[1478,7456...|(10000,[1478,7456...|  1.0|\n",
      "+--------------------+--------------------+--------+--------------------+--------------------+--------------------+--------------------+-----+\n",
      "only showing top 5 rows\n",
      "\n"
     ]
    }
   ],
   "source": [
    "pipelineFit = pipeline.fit(df)\n",
    "dataset = pipelineFit.transform(df)\n",
    "dataset.show(5)"
   ]
  },
  {
   "cell_type": "markdown",
   "metadata": {},
   "source": [
    "### 3.2 Split Training & Testing Dataset"
   ]
  },
  {
   "cell_type": "code",
   "execution_count": 24,
   "metadata": {},
   "outputs": [],
   "source": [
    "dataset= dataset.na.drop()"
   ]
  },
  {
   "cell_type": "code",
   "execution_count": 25,
   "metadata": {},
   "outputs": [],
   "source": [
    "df_train, df_test = dataset.randomSplit([.8,.2],seed=2021)"
   ]
  },
  {
   "cell_type": "code",
   "execution_count": 26,
   "metadata": {},
   "outputs": [
    {
     "name": "stdout",
     "output_type": "stream",
     "text": [
      "+--------------------+-----+\n",
      "|            features|label|\n",
      "+--------------------+-----+\n",
      "|(10000,[2474,2626...|  2.0|\n",
      "|(10000,[1150,1770...|  1.0|\n",
      "|(10000,[1,270,337...|  0.0|\n",
      "|(10000,[560,909,1...|  2.0|\n",
      "|(10000,[163,300,5...|  0.0|\n",
      "+--------------------+-----+\n",
      "only showing top 5 rows\n",
      "\n"
     ]
    }
   ],
   "source": [
    "df_train.select('features','label').show(5)"
   ]
  },
  {
   "cell_type": "code",
   "execution_count": 27,
   "metadata": {},
   "outputs": [
    {
     "name": "stdout",
     "output_type": "stream",
     "text": [
      "+--------------------+-----+\n",
      "|            features|label|\n",
      "+--------------------+-----+\n",
      "|(10000,[1364,3767...|  1.0|\n",
      "|(10000,[698,909,1...|  2.0|\n",
      "|(10000,[422,840,3...|  0.0|\n",
      "|(10000,[1011,3356...|  0.0|\n",
      "|(10000,[1955,3145...|  1.0|\n",
      "+--------------------+-----+\n",
      "only showing top 5 rows\n",
      "\n"
     ]
    }
   ],
   "source": [
    "df_test.select('features','label').show(5)"
   ]
  },
  {
   "cell_type": "markdown",
   "metadata": {},
   "source": [
    "### 3.3 Balance Training Dataset"
   ]
  },
  {
   "cell_type": "code",
   "execution_count": 28,
   "metadata": {},
   "outputs": [
    {
     "name": "stdout",
     "output_type": "stream",
     "text": [
      "+-----+-------+\n",
      "|label|  count|\n",
      "+-----+-------+\n",
      "|  0.0|1656507|\n",
      "|  1.0|1160767|\n",
      "|  2.0| 933099|\n",
      "+-----+-------+\n",
      "\n"
     ]
    }
   ],
   "source": [
    "df_train.groupby(\"label\").count().show()"
   ]
  },
  {
   "cell_type": "code",
   "execution_count": 64,
   "metadata": {},
   "outputs": [],
   "source": [
    "df0 = df_train.filter(df_train.label == 0.0)\n",
    "df1 = df_train.filter(df_train.label == 1.0)\n",
    "df2 = df_train.filter(df_train.label == 2.0)"
   ]
  },
  {
   "cell_type": "code",
   "execution_count": 65,
   "metadata": {},
   "outputs": [],
   "source": [
    "df0 = df0.sample(fraction=10/16, seed=2020)\n",
    "#df2 = df2.sample(fraction=1/4, seed=2020)"
   ]
  },
  {
   "cell_type": "code",
   "execution_count": 66,
   "metadata": {},
   "outputs": [],
   "source": [
    "df_train_balanced = df0.union(df1)\n",
    "df_train_balanced = df_train_balanced.union(df2)"
   ]
  },
  {
   "cell_type": "code",
   "execution_count": 67,
   "metadata": {},
   "outputs": [
    {
     "name": "stdout",
     "output_type": "stream",
     "text": [
      "+-----+-------+\n",
      "|label|  count|\n",
      "+-----+-------+\n",
      "|  0.0|1035074|\n",
      "|  1.0|1160767|\n",
      "|  2.0| 933099|\n",
      "+-----+-------+\n",
      "\n"
     ]
    }
   ],
   "source": [
    "df_train_balanced.groupby(\"label\").count().show()"
   ]
  },
  {
   "cell_type": "code",
   "execution_count": 68,
   "metadata": {},
   "outputs": [
    {
     "name": "stdout",
     "output_type": "stream",
     "text": [
      "+-----+------+\n",
      "|label| count|\n",
      "+-----+------+\n",
      "|  0.0|414082|\n",
      "|  1.0|289240|\n",
      "|  2.0|233046|\n",
      "+-----+------+\n",
      "\n"
     ]
    }
   ],
   "source": [
    "df_test.groupby(\"label\").count().show()"
   ]
  },
  {
   "cell_type": "markdown",
   "metadata": {},
   "source": [
    "## 4. Train the Model"
   ]
  },
  {
   "cell_type": "code",
   "execution_count": 29,
   "metadata": {},
   "outputs": [],
   "source": [
    "from pyspark.ml.classification import RandomForestClassifier, LogisticRegression\n",
    "from pyspark.ml.evaluation import MulticlassClassificationEvaluator"
   ]
  },
  {
   "cell_type": "markdown",
   "metadata": {},
   "source": [
    "### 4.1 Logistic Regression"
   ]
  },
  {
   "cell_type": "code",
   "execution_count": 30,
   "metadata": {},
   "outputs": [],
   "source": [
    "lr = LogisticRegression(featuresCol = 'features', labelCol='label')\n",
    "\n",
    "lrModel = lr.fit(df_train)\n",
    "lrPredictions = lrModel.transform(df_test)"
   ]
  },
  {
   "cell_type": "code",
   "execution_count": 31,
   "metadata": {},
   "outputs": [
    {
     "name": "stdout",
     "output_type": "stream",
     "text": [
      "+-----+--------------------+----------+\n",
      "|label|            features|prediction|\n",
      "+-----+--------------------+----------+\n",
      "|  1.0|(10000,[1364,3767...|       0.0|\n",
      "|  2.0|(10000,[698,909,1...|       2.0|\n",
      "|  0.0|(10000,[422,840,3...|       0.0|\n",
      "|  0.0|(10000,[1011,3356...|       0.0|\n",
      "|  1.0|(10000,[1955,3145...|       1.0|\n",
      "|  0.0|(10000,[1076,1564...|       1.0|\n",
      "|  2.0|(10000,[263,625,2...|       0.0|\n",
      "|  1.0|(10000,[1800,7704...|       1.0|\n",
      "|  1.0|(10000,[263,616,7...|       1.0|\n",
      "|  2.0|(10000,[8051,9518...|       1.0|\n",
      "+-----+--------------------+----------+\n",
      "only showing top 10 rows\n",
      "\n"
     ]
    }
   ],
   "source": [
    "lrPredictions.select(\"label\", \"features\", \"prediction\").show(10)"
   ]
  },
  {
   "cell_type": "code",
   "execution_count": 32,
   "metadata": {},
   "outputs": [
    {
     "name": "stdout",
     "output_type": "stream",
     "text": [
      "0.8553880525605317\n",
      "0.854478520467908\n"
     ]
    }
   ],
   "source": [
    "evaluator = MulticlassClassificationEvaluator(labelCol=\"label\", predictionCol=\"prediction\")\n",
    "print(evaluator.evaluate(lrPredictions, {evaluator.metricName: \"accuracy\"}))\n",
    "print(evaluator.evaluate(lrPredictions, {evaluator.metricName: \"f1\"}))"
   ]
  },
  {
   "cell_type": "code",
   "execution_count": 33,
   "metadata": {},
   "outputs": [],
   "source": [
    "lrcol_accu = []\n",
    "lrcol_f1 = []\n",
    "\n",
    "for tag in [0.0, 1.0, 2.0]:\n",
    "    accu = (evaluator.evaluate(lrPredictions.where(col('label')==tag), {evaluator.metricName: \"accuracy\"}))\n",
    "    f1 = (evaluator.evaluate(lrPredictions.where(col('label')==tag), {evaluator.metricName: \"f1\"}))\n",
    "    \n",
    "    print(tag, accu, f1)\n",
    "    lrcol_accu.append(accu)\n",
    "    lrcol_f1.append(f1)"
   ]
  },
  {
   "cell_type": "code",
   "execution_count": 34,
   "metadata": {},
   "outputs": [
    {
     "data": {
      "text/html": [
       "<div>\n",
       "<style scoped>\n",
       "    .dataframe tbody tr th:only-of-type {\n",
       "        vertical-align: middle;\n",
       "    }\n",
       "\n",
       "    .dataframe tbody tr th {\n",
       "        vertical-align: top;\n",
       "    }\n",
       "\n",
       "    .dataframe thead th {\n",
       "        text-align: right;\n",
       "    }\n",
       "</style>\n",
       "<table border=\"1\" class=\"dataframe\">\n",
       "  <thead>\n",
       "    <tr style=\"text-align: right;\">\n",
       "      <th></th>\n",
       "      <th>Label</th>\n",
       "      <th>Category</th>\n",
       "      <th>F1Score</th>\n",
       "      <th>Accuracy Score</th>\n",
       "    </tr>\n",
       "  </thead>\n",
       "  <tbody>\n",
       "    <tr>\n",
       "      <th>0</th>\n",
       "      <td>0.0</td>\n",
       "      <td>positive</td>\n",
       "      <td>0.930658</td>\n",
       "      <td>0.870308</td>\n",
       "    </tr>\n",
       "    <tr>\n",
       "      <th>1</th>\n",
       "      <td>1.0</td>\n",
       "      <td>neutral</td>\n",
       "      <td>0.954108</td>\n",
       "      <td>0.912242</td>\n",
       "    </tr>\n",
       "    <tr>\n",
       "      <th>2</th>\n",
       "      <td>2.0</td>\n",
       "      <td>negative</td>\n",
       "      <td>0.862547</td>\n",
       "      <td>0.758314</td>\n",
       "    </tr>\n",
       "  </tbody>\n",
       "</table>\n",
       "</div>"
      ],
      "text/plain": [
       "   Label  Category   F1Score  Accuracy Score\n",
       "0    0.0  positive  0.930658        0.870308\n",
       "1    1.0   neutral  0.954108        0.912242\n",
       "2    2.0  negative  0.862547        0.758314"
      ]
     },
     "execution_count": 34,
     "metadata": {},
     "output_type": "execute_result"
    }
   ],
   "source": [
    "lr_res = pd.DataFrame({\n",
    "    'Label': [0.0, 1.0, 2.0],\n",
    "    'Category': ['positive','neutral','negative'],\n",
    "    'F1Score': lrcol_f1,\n",
    "    'Accuracy Score': lrcol_accu\n",
    "})\n",
    "lr_res"
   ]
  },
  {
   "cell_type": "markdown",
   "metadata": {},
   "source": [
    "#### Evaluation -- Confusion Matrix"
   ]
  },
  {
   "cell_type": "code",
   "execution_count": null,
   "metadata": {},
   "outputs": [],
   "source": [
    "from sklearn.metrics import confusion_matrix\n",
    "y_true = lrPredictions.select(\"label\")\n",
    "y_true = y_true.toPandas()\n",
    "\n",
    "y_pred = lrPredictions.select(\"prediction\")\n",
    "y_pred = y_pred.toPandas()"
   ]
  },
  {
   "cell_type": "code",
   "execution_count": 40,
   "metadata": {},
   "outputs": [
    {
     "data": {
      "text/plain": [
       "array([[176722,  19239,  37085],\n",
       "       [  9784, 263857,  15599],\n",
       "       [ 28779,  24924, 360379]])"
      ]
     },
     "execution_count": 40,
     "metadata": {},
     "output_type": "execute_result"
    }
   ],
   "source": [
    "cnf_matrix = confusion_matrix(y_true, y_pred,labels=[2.0,1.0,0.0])\n",
    "cnf_matrix"
   ]
  },
  {
   "cell_type": "code",
   "execution_count": 47,
   "metadata": {},
   "outputs": [],
   "source": [
    "import matplotlib.pyplot as plt\n",
    "import numpy as np\n",
    "import itertools\n",
    "\n",
    "def plot_confusion_matrix(cm, classes,\n",
    "                          normalize=False,\n",
    "                          title='Confusion matrix',\n",
    "                          cmap=plt.cm.Blues):\n",
    "    if normalize:\n",
    "        cm = cm.astype('float') / cm.sum(axis=1)[:, np.newaxis]\n",
    "        print(\"Normalized confusion matrix\")\n",
    "    else:\n",
    "        print('Confusion matrix, without normalization')\n",
    "\n",
    "    print(cm)\n",
    "\n",
    "    plt.imshow(cm, interpolation='nearest', cmap=cmap)\n",
    "    plt.title(title)\n",
    "    plt.colorbar()\n",
    "    tick_marks = np.arange(len(classes))\n",
    "    plt.xticks(tick_marks, classes, rotation=45)\n",
    "    plt.yticks(tick_marks, classes)\n",
    "\n",
    "    fmt = '.2f' if normalize else 'd'\n",
    "    thresh = cm.max() / 2.\n",
    "    for i, j in itertools.product(range(cm.shape[0]), range(cm.shape[1])):\n",
    "        plt.text(j, i, format(cm[i, j], fmt),\n",
    "                 horizontalalignment=\"center\",\n",
    "                 color=\"white\" if cm[i, j] > thresh else \"black\")\n",
    "\n",
    "    plt.tight_layout()\n",
    "    plt.ylabel('True label')\n",
    "    plt.xlabel('Predicted label')"
   ]
  },
  {
   "cell_type": "code",
   "execution_count": 58,
   "metadata": {},
   "outputs": [
    {
     "name": "stdout",
     "output_type": "stream",
     "text": [
      "Confusion matrix, without normalization\n",
      "[[176722  19239  37085]\n",
      " [  9784 263857  15599]\n",
      " [ 28779  24924 360379]]\n"
     ]
    },
    {
     "data": {
      "image/png": "[encoded data removed]",
      "text/plain": [
       "<Figure size 432x288 with 2 Axes>"
      ]
     },
     "metadata": {},
     "output_type": "display_data"
    }
   ],
   "source": [
    "plt.figure()\n",
    "plot_confusion_matrix(cnf_matrix, classes = ['negative','neutral','positive'])\n",
    "plt.show()"
   ]
  },
  {
   "cell_type": "code",
   "execution_count": 59,
   "metadata": {},
   "outputs": [
    {
     "name": "stdout",
     "output_type": "stream",
     "text": [
      "Normalized confusion matrix\n",
      "[[0.75831381 0.08255452 0.15913167]\n",
      " [0.03382658 0.91224243 0.05393099]\n",
      " [0.06950073 0.06019098 0.8703083 ]]\n"
     ]
    },
    {
     "data": {
      "image/png": "[encoded data removed]",
      "text/plain": [
       "<Figure size 432x288 with 2 Axes>"
      ]
     },
     "metadata": {},
     "output_type": "display_data"
    }
   ],
   "source": [
    "plt.figure()\n",
    "plot_confusion_matrix(cnf_matrix, normalize=True, classes = ['negative','neutral','positive'])\n",
    "plt.show()"
   ]
  },
  {
   "cell_type": "markdown",
   "metadata": {},
   "source": [
    "### With Balanced Training Dataset "
   ]
  },
  {
   "cell_type": "code",
   "execution_count": 69,
   "metadata": {},
   "outputs": [],
   "source": [
    "lr2 = LogisticRegression(featuresCol = 'features', labelCol='label')\n",
    "\n",
    "lrModel2 = lr2.fit(df_train_balanced)\n",
    "lrPredictions2 = lrModel2.transform(df_test)"
   ]
  },
  {
   "cell_type": "code",
   "execution_count": 70,
   "metadata": {},
   "outputs": [
    {
     "name": "stdout",
     "output_type": "stream",
     "text": [
      "0.8502746783315961\n",
      "0.8502152669632522\n"
     ]
    }
   ],
   "source": [
    "evaluator = MulticlassClassificationEvaluator(labelCol=\"label\", predictionCol=\"prediction\")\n",
    "print(evaluator.evaluate(lrPredictions2, {evaluator.metricName: \"accuracy\"}))\n",
    "print(evaluator.evaluate(lrPredictions2, {evaluator.metricName: \"f1\"}))"
   ]
  },
  {
   "cell_type": "markdown",
   "metadata": {},
   "source": [
    "### 4.2 Random Forest"
   ]
  },
  {
   "cell_type": "code",
   "execution_count": 53,
   "metadata": {},
   "outputs": [],
   "source": [
    "rf = RandomForestClassifier(labelCol=\"label\", featuresCol=\"features\") #weightCol='weight'\n",
    "\n",
    "rfModel = rf.fit(df_train)\n",
    "rfPredictions = rfModel.transform(df_test)"
   ]
  },
  {
   "cell_type": "code",
   "execution_count": 54,
   "metadata": {},
   "outputs": [
    {
     "name": "stdout",
     "output_type": "stream",
     "text": [
      "+-----+--------------------+----------+\n",
      "|label|            features|prediction|\n",
      "+-----+--------------------+----------+\n",
      "|  1.0|(10000,[1364,3767...|       0.0|\n",
      "|  2.0|(10000,[698,909,1...|       0.0|\n",
      "|  0.0|(10000,[422,840,3...|       0.0|\n",
      "|  0.0|(10000,[1011,3356...|       0.0|\n",
      "|  1.0|(10000,[1955,3145...|       0.0|\n",
      "|  0.0|(10000,[1076,1564...|       0.0|\n",
      "|  2.0|(10000,[263,625,2...|       0.0|\n",
      "|  1.0|(10000,[1800,7704...|       0.0|\n",
      "|  1.0|(10000,[263,616,7...|       0.0|\n",
      "|  2.0|(10000,[8051,9518...|       0.0|\n",
      "+-----+--------------------+----------+\n",
      "only showing top 10 rows\n",
      "\n"
     ]
    }
   ],
   "source": [
    "rfPredictions.select(\"label\", \"features\", \"prediction\").show(10)"
   ]
  },
  {
   "cell_type": "code",
   "execution_count": 55,
   "metadata": {},
   "outputs": [
    {
     "name": "stdout",
     "output_type": "stream",
     "text": [
      "0.4426913350306717\n",
      "0.2722375932420075\n"
     ]
    }
   ],
   "source": [
    "evaluator = MulticlassClassificationEvaluator(labelCol=\"label\", predictionCol=\"prediction\")\n",
    "print(evaluator.evaluate(rfPredictions, {evaluator.metricName: \"accuracy\"}))\n",
    "print(evaluator.evaluate(rfPredictions, {evaluator.metricName: \"f1\"}))"
   ]
  },
  {
   "cell_type": "code",
   "execution_count": 56,
   "metadata": {},
   "outputs": [
    {
     "name": "stdout",
     "output_type": "stream",
     "text": [
      "0.0 0.999975850193923 0.9999879249511565\n",
      "1.0 0.0 0.0\n",
      "2.0 0.0019309492546535877 0.00385445575084798\n"
     ]
    }
   ],
   "source": [
    "rfcol_accu = []\n",
    "rfcol_f1 = []\n",
    "\n",
    "for tag in [0.0, 1.0, 2.0]:\n",
    "    accu = (evaluator.evaluate(rfPredictions.where(col('label')==tag), {evaluator.metricName: \"accuracy\"}))\n",
    "    f1 = (evaluator.evaluate(rfPredictions.where(col('label')==tag), {evaluator.metricName: \"f1\"}))\n",
    "    \n",
    "    print(tag, accu, f1)\n",
    "    rfcol_accu.append(accu)\n",
    "    rfcol_f1.append(f1)"
   ]
  },
  {
   "cell_type": "code",
   "execution_count": 57,
   "metadata": {},
   "outputs": [
    {
     "data": {
      "text/html": [
       "<div>\n",
       "<style scoped>\n",
       "    .dataframe tbody tr th:only-of-type {\n",
       "        vertical-align: middle;\n",
       "    }\n",
       "\n",
       "    .dataframe tbody tr th {\n",
       "        vertical-align: top;\n",
       "    }\n",
       "\n",
       "    .dataframe thead th {\n",
       "        text-align: right;\n",
       "    }\n",
       "</style>\n",
       "<table border=\"1\" class=\"dataframe\">\n",
       "  <thead>\n",
       "    <tr style=\"text-align: right;\">\n",
       "      <th></th>\n",
       "      <th>Label</th>\n",
       "      <th>Category</th>\n",
       "      <th>F1Score</th>\n",
       "      <th>Accuracy Score</th>\n",
       "    </tr>\n",
       "  </thead>\n",
       "  <tbody>\n",
       "    <tr>\n",
       "      <th>0</th>\n",
       "      <td>0.0</td>\n",
       "      <td>positive</td>\n",
       "      <td>0.999988</td>\n",
       "      <td>0.999976</td>\n",
       "    </tr>\n",
       "    <tr>\n",
       "      <th>1</th>\n",
       "      <td>1.0</td>\n",
       "      <td>neutral</td>\n",
       "      <td>0.000000</td>\n",
       "      <td>0.000000</td>\n",
       "    </tr>\n",
       "    <tr>\n",
       "      <th>2</th>\n",
       "      <td>2.0</td>\n",
       "      <td>negative</td>\n",
       "      <td>0.003854</td>\n",
       "      <td>0.001931</td>\n",
       "    </tr>\n",
       "  </tbody>\n",
       "</table>\n",
       "</div>"
      ],
      "text/plain": [
       "   Label  Category   F1Score  Accuracy Score\n",
       "0    0.0  positive  0.999988        0.999976\n",
       "1    1.0   neutral  0.000000        0.000000\n",
       "2    2.0  negative  0.003854        0.001931"
      ]
     },
     "execution_count": 57,
     "metadata": {},
     "output_type": "execute_result"
    }
   ],
   "source": [
    "rf_res = pd.DataFrame({\n",
    "    'Label': [0.0, 1.0, 2.0],\n",
    "    'Category': ['positive','neutral','negative'],\n",
    "    'F1Score': rfcol_f1,\n",
    "    'Accuracy Score': rfcol_accu\n",
    "})\n",
    "rf_res"
   ]
  },
  {
   "cell_type": "markdown",
   "metadata": {},
   "source": [
    "#### Evaluatioin - Confusion Matrix"
   ]
  },
  {
   "cell_type": "code",
   "execution_count": 60,
   "metadata": {},
   "outputs": [],
   "source": [
    "y_true_rf = rfPredictions.select(\"label\")\n",
    "y_true_rf = y_true_rf.toPandas()\n",
    "\n",
    "y_pred_rf = rfPredictions.select(\"prediction\")\n",
    "y_pred_rf = y_pred_rf.toPandas()"
   ]
  },
  {
   "cell_type": "code",
   "execution_count": 61,
   "metadata": {},
   "outputs": [
    {
     "data": {
      "text/plain": [
       "array([[   450,      0, 232596],\n",
       "       [     0,      0, 289240],\n",
       "       [    10,      0, 414072]])"
      ]
     },
     "execution_count": 61,
     "metadata": {},
     "output_type": "execute_result"
    }
   ],
   "source": [
    "cnf_matrix_rf = confusion_matrix(y_true_rf, y_pred_rf,labels=[2.0,1.0,0.0])\n",
    "cnf_matrix_rf"
   ]
  },
  {
   "cell_type": "code",
   "execution_count": 62,
   "metadata": {},
   "outputs": [
    {
     "name": "stdout",
     "output_type": "stream",
     "text": [
      "Confusion matrix, without normalization\n",
      "[[   450      0 232596]\n",
      " [     0      0 289240]\n",
      " [    10      0 414072]]\n"
     ]
    },
    {
     "data": {
      "image/png": "[encoded data removed]",
      "text/plain": [
       "<Figure size 432x288 with 2 Axes>"
      ]
     },
     "metadata": {},
     "output_type": "display_data"
    }
   ],
   "source": [
    "plt.figure()\n",
    "plot_confusion_matrix(cnf_matrix_rf, classes = ['negative','neutral','positive'])\n",
    "plt.show()"
   ]
  },
  {
   "cell_type": "code",
   "execution_count": 63,
   "metadata": {},
   "outputs": [
    {
     "name": "stdout",
     "output_type": "stream",
     "text": [
      "Normalized confusion matrix\n",
      "[[1.93094925e-03 0.00000000e+00 9.98069051e-01]\n",
      " [0.00000000e+00 0.00000000e+00 1.00000000e+00]\n",
      " [2.41498061e-05 0.00000000e+00 9.99975850e-01]]\n"
     ]
    },
    {
     "data": {
      "image/png": "[encoded data removed]",
      "text/plain": [
       "<Figure size 432x288 with 2 Axes>"
      ]
     },
     "metadata": {},
     "output_type": "display_data"
    }
   ],
   "source": [
    "plt.figure()\n",
    "plot_confusion_matrix(cnf_matrix_rf, normalize=True, classes = ['negative','neutral','positive'])\n",
    "plt.show()"
   ]
  },
  {
   "cell_type": "code",
   "execution_count": null,
   "metadata": {},
   "outputs": [],
   "source": []
  }
 ],
 "metadata": {
  "kernelspec": {
   "display_name": "pySpark",
   "language": "python",
   "name": "pyspark"
  },
  "language_info": {
   "codemirror_mode": {
    "name": "ipython",
    "version": 3
   },
   "file_extension": ".py",
   "mimetype": "text/x-python",
   "name": "python",
   "nbconvert_exporter": "python",
   "pygments_lexer": "ipython3",
   "version": "3.6.8"
  }
 },
 "nbformat": 4,
 "nbformat_minor": 2
}
