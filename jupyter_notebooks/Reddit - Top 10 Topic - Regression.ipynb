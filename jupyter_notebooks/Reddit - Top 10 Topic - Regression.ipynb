{
 "cells": [
  {
   "cell_type": "code",
   "execution_count": 1,
   "metadata": {},
   "outputs": [],
   "source": [
    "from pyspark.sql import SparkSession\n",
    "\n",
    "import warnings\n",
    "warnings.filterwarnings('ignore')"
   ]
  },
  {
   "cell_type": "code",
   "execution_count": 2,
   "metadata": {},
   "outputs": [],
   "source": [
    "spark = SparkSession.builder \\\n",
    "    .appName(\"reddit_4k\")\\\n",
    "    .getOrCreate()\n",
    "sc = spark.sparkContext"
   ]
  },
  {
   "cell_type": "markdown",
   "metadata": {},
   "source": [
    "## Import Dataset"
   ]
  },
  {
   "cell_type": "code",
   "execution_count": 3,
   "metadata": {},
   "outputs": [],
   "source": [
    "df = spark.read \\\n",
    "    .option(\"delimiter\",\",\") \\\n",
    "    .option(\"multiLine\",\"true\") \\\n",
    "    .option(\"quote\", \"\\\"\")  \\\n",
    "    .option(\"escape\", \"\\\"\") \\\n",
    "    .option(\"ignoreLeadingWhiteSpace\",True) \\\n",
    "    .csv(\"/user/yuewu20/data/reddit_new.csv\", inferSchema=True, header=True)"
   ]
  },
  {
   "cell_type": "code",
   "execution_count": 4,
   "metadata": {},
   "outputs": [],
   "source": [
    "df_nlp = df.select('id', 'subreddit', 'clean_comment', 'ups', 'downs', 'gilded', 'score').dropna().drop_duplicates()"
   ]
  },
  {
   "cell_type": "code",
   "execution_count": 5,
   "metadata": {},
   "outputs": [],
   "source": [
    "# import pyspark.sql.functions as f\n",
    "# top_10_reddit = ['AskReddit', 'leagueoflegends','nba','funny','nfl','pics', \\\n",
    "#                  'videos','news', 'todayilearned','pcmasterrace']\n",
    "\n",
    "# df_nlp = df_nlp.where(f.col('subreddit').isin(top_10_reddit)).limit(2000)"
   ]
  },
  {
   "cell_type": "code",
   "execution_count": 6,
   "metadata": {},
   "outputs": [],
   "source": [
    "# df_nlp.count()"
   ]
  },
  {
   "cell_type": "code",
   "execution_count": 7,
   "metadata": {},
   "outputs": [],
   "source": [
    "# df_nlp.rdd.getNumPartitions()"
   ]
  },
  {
   "cell_type": "code",
   "execution_count": 8,
   "metadata": {},
   "outputs": [],
   "source": [
    "# df_nlp = df_nlp.repartition(100)"
   ]
  },
  {
   "cell_type": "markdown",
   "metadata": {},
   "source": [
    "## NLP Pipeline"
   ]
  },
  {
   "cell_type": "code",
   "execution_count": 9,
   "metadata": {},
   "outputs": [],
   "source": [
    "from pyspark.ml import Pipeline\n",
    "from pyspark.ml.feature import HashingTF, IDF, RegexTokenizer, Tokenizer, CountVectorizer, StopWordsRemover, IndexToString, StringIndexer, VectorIndexer\n",
    "from pyspark.ml.regression import RandomForestRegressor, LinearRegression, DecisionTreeRegressor\n",
    "from pyspark.ml.evaluation import RegressionEvaluator"
   ]
  },
  {
   "cell_type": "code",
   "execution_count": 10,
   "metadata": {},
   "outputs": [],
   "source": [
    "# Tokenizer\n",
    "pattern = \"\\\\W\"\n",
    "tokenizer = RegexTokenizer(inputCol=\"clean_comment\", outputCol=\"words\", pattern=pattern)\n",
    "# tokenizer = Tokenizer(inputCol=\"body\", outputCol=\"words\")\n",
    "df_words = tokenizer.transform(df_nlp)\n",
    "\n",
    "# Remove stop words\n",
    "remover = StopWordsRemover(inputCol=\"words\", outputCol=\"filtered_words\")\n",
    "df_filtered = remover.transform(df_words)"
   ]
  },
  {
   "cell_type": "code",
   "execution_count": 11,
   "metadata": {},
   "outputs": [],
   "source": [
    "# Select features\n",
    "df_filtered = df_filtered.select('id', 'ups', 'downs', 'gilded', 'score', 'filtered_words')\n",
    "\n",
    "# Count term frequency\n",
    "cv = CountVectorizer(inputCol=\"filtered_words\", outputCol=\"features\")\n",
    "cv_model = cv.fit(df_filtered)\n",
    "df_model = cv_model.transform(df_filtered)\n",
    "\n",
    "# hashingTF = HashingTF(inputCol=\"filtered_words\", outputCol=\"features\", numFeatures=1024)\n",
    "# df_model = hashingTF.transform(df_filtered)"
   ]
  },
  {
   "cell_type": "code",
   "execution_count": 12,
   "metadata": {},
   "outputs": [],
   "source": [
    "# # Tokenizer\n",
    "# pattern = \"\\\\W\"\n",
    "# tokenizer = RegexTokenizer(inputCol=\"body\", outputCol=\"words\", pattern=pattern)\n",
    "\n",
    "# # Remove stop words\n",
    "# remover = StopWordsRemover(inputCol=\"words\", outputCol=\"filtered\")\n",
    "\n",
    "# # Count term frequency\n",
    "# cv = CountVectorizer(inputCol=\"filtered\", outputCol=\"rawFeatures\")\n",
    "# # hashingTF = HashingTF(inputCol=\"filtered\", outputCol=\"rawFeatures\", numFeatures=1024)\n",
    "# idf = IDF(inputCol=\"rawFeatures\", outputCol=\"features\")\n",
    "\n",
    "# # Chain indexers and forest in a Pipeline\n",
    "# pipeline = Pipeline(stages=[tokenizer, remover, cv, idf])"
   ]
  },
  {
   "cell_type": "code",
   "execution_count": 13,
   "metadata": {},
   "outputs": [],
   "source": [
    "# try:\n",
    "#     # Load pipeline results\n",
    "#     pipeline_results = joblib.load('gs://reddit-data-team-1/pipeline_results.pkl')\n",
    "# except:\n",
    "#     # Fit pipeline\n",
    "#     model = pipeline.fit(df_nlp)\n",
    "#     pipeline_results = model.transform(model)\n",
    "\n",
    "#     # Pickle the pipeline results\n",
    "#     joblib.dump(pipeline_results, 'gs://reddit-data-team-1/pipeline_results.pkl')"
   ]
  },
  {
   "cell_type": "markdown",
   "metadata": {},
   "source": [
    "## Regression Analysis"
   ]
  },
  {
   "cell_type": "code",
   "execution_count": 14,
   "metadata": {},
   "outputs": [],
   "source": [
    "# df_model = result.select('id','ups', 'downs', 'gilded', 'score', 'filtered_words', 'features')"
   ]
  },
  {
   "cell_type": "code",
   "execution_count": 15,
   "metadata": {},
   "outputs": [],
   "source": [
    "(training, test) = df_model.randomSplit([0.8, 0.2])"
   ]
  },
  {
   "cell_type": "markdown",
   "metadata": {},
   "source": [
    "### Random Forest"
   ]
  },
  {
   "cell_type": "code",
   "execution_count": 16,
   "metadata": {},
   "outputs": [],
   "source": [
    "def rf_regression(featuresCol, labelCol, training, test):\n",
    "    \n",
    "    rf = RandomForestRegressor(featuresCol=featuresCol, labelCol=labelCol)\n",
    "    \n",
    "    model = rf.fit(training)\n",
    "    \n",
    "    predictions = model.transform(test)\n",
    "    \n",
    "    return predictions"
   ]
  },
  {
   "cell_type": "markdown",
   "metadata": {},
   "source": [
    "#### 'ups' as label"
   ]
  },
  {
   "cell_type": "code",
   "execution_count": 17,
   "metadata": {},
   "outputs": [
    {
     "name": "stdout",
     "output_type": "stream",
     "text": [
      "Root Mean Squared Error (RMSE) on test data for 'ups' = 1.25625\n"
     ]
    }
   ],
   "source": [
    "# Train model on 'ups' label\n",
    "predictions_ups = rf_regression(featuresCol=\"features\", labelCol=\"ups\", training=training, test=test)\n",
    "\n",
    "evaluator_ups = RegressionEvaluator(labelCol=\"ups\", predictionCol=\"prediction\", metricName=\"rmse\")\n",
    "rmse_ups = evaluator_ups.evaluate(predictions_ups)\n",
    "print(\"Root Mean Squared Error (RMSE) on test data for 'ups' = %g\" % (rmse_ups))"
   ]
  },
  {
   "cell_type": "code",
   "execution_count": 18,
   "metadata": {},
   "outputs": [
    {
     "name": "stdout",
     "output_type": "stream",
     "text": [
      "+-------+---+------------------+\n",
      "|     id|ups|        prediction|\n",
      "+-------+---+------------------+\n",
      "|cqughbu|  1|0.8723324173558099|\n",
      "|cqugiii|  1|0.8723324173558099|\n",
      "|cqugnke|  1|0.8723324173558099|\n",
      "|cqugnzs|  1|0.8723324173558099|\n",
      "|cqugpu1|  1|0.8723324173558099|\n",
      "|cqugtqb|  1|0.8723324173558099|\n",
      "|cquh3ot|  0|0.8723324173558099|\n",
      "|cquhfa9|  1|0.8723324173558099|\n",
      "|cquk23e|  1|0.8723324173558099|\n",
      "|cquk566|  1|0.8723324173558099|\n",
      "+-------+---+------------------+\n",
      "only showing top 10 rows\n",
      "\n"
     ]
    }
   ],
   "source": [
    "predictions_ups.select('id', 'ups', 'prediction').show(10)"
   ]
  },
  {
   "cell_type": "markdown",
   "metadata": {},
   "source": [
    "#### 'downs' as label"
   ]
  },
  {
   "cell_type": "code",
   "execution_count": 19,
   "metadata": {},
   "outputs": [
    {
     "name": "stdout",
     "output_type": "stream",
     "text": [
      "Root Mean Squared Error (RMSE) on test data for 'downs' = 0\n"
     ]
    }
   ],
   "source": [
    "# Train model on 'downs' label\n",
    "predictions_downs = rf_regression(featuresCol=\"features\", labelCol=\"downs\", training=training, test=test)\n",
    "\n",
    "evaluator_downs = RegressionEvaluator(labelCol=\"downs\", predictionCol=\"prediction\", metricName=\"rmse\")\n",
    "rmse_downs = evaluator_downs.evaluate(predictions_downs)\n",
    "print(\"Root Mean Squared Error (RMSE) on test data for 'downs' = %g\" % (rmse_downs))"
   ]
  },
  {
   "cell_type": "code",
   "execution_count": 20,
   "metadata": {},
   "outputs": [
    {
     "name": "stdout",
     "output_type": "stream",
     "text": [
      "+-------+-----+----------+\n",
      "|     id|downs|prediction|\n",
      "+-------+-----+----------+\n",
      "|cqugg23|    0|       0.0|\n",
      "|cqughhx|    0|       0.0|\n",
      "|cqugntv|    0|       0.0|\n",
      "|cqugpbm|    0|       0.0|\n",
      "|cqugte7|    0|       0.0|\n",
      "|cquguzk|    0|       0.0|\n",
      "|cquhcwz|    0|       0.0|\n",
      "|cquhkeo|    0|       0.0|\n",
      "|cquk9s5|    0|       0.0|\n",
      "|cqukj8g|    0|       0.0|\n",
      "+-------+-----+----------+\n",
      "only showing top 10 rows\n",
      "\n"
     ]
    }
   ],
   "source": [
    "predictions_downs.select('id', 'downs', 'prediction').show(10)"
   ]
  },
  {
   "cell_type": "markdown",
   "metadata": {},
   "source": [
    "#### 'gilded' as label"
   ]
  },
  {
   "cell_type": "code",
   "execution_count": 21,
   "metadata": {},
   "outputs": [
    {
     "name": "stdout",
     "output_type": "stream",
     "text": [
      "Root Mean Squared Error (RMSE) on test data for 'gilded' = 0\n"
     ]
    }
   ],
   "source": [
    "# Train model on 'gilded' label\n",
    "predictions_gilded = rf_regression(featuresCol=\"features\", labelCol=\"gilded\", training=training, test=test)\n",
    "\n",
    "evaluator_gilded = RegressionEvaluator(labelCol=\"gilded\", predictionCol=\"prediction\", metricName=\"rmse\")\n",
    "rmse_gilded = evaluator_gilded.evaluate(predictions_gilded)\n",
    "print(\"Root Mean Squared Error (RMSE) on test data for 'gilded' = %g\" % (rmse_gilded))"
   ]
  },
  {
   "cell_type": "code",
   "execution_count": 22,
   "metadata": {},
   "outputs": [
    {
     "name": "stdout",
     "output_type": "stream",
     "text": [
      "+-------+------+----------+\n",
      "|     id|gilded|prediction|\n",
      "+-------+------+----------+\n",
      "|cqughbu|     0|       0.0|\n",
      "|cqugiii|     0|       0.0|\n",
      "|cqugnke|     0|       0.0|\n",
      "|cqugnzs|     0|       0.0|\n",
      "|cqugpu1|     0|       0.0|\n",
      "|cqugtqb|     0|       0.0|\n",
      "|cquh3ot|     0|       0.0|\n",
      "|cquhfa9|     0|       0.0|\n",
      "|cquk23e|     0|       0.0|\n",
      "|cquk566|     0|       0.0|\n",
      "+-------+------+----------+\n",
      "only showing top 10 rows\n",
      "\n"
     ]
    }
   ],
   "source": [
    "predictions_gilded.select('id', 'gilded', 'prediction').show(10)"
   ]
  },
  {
   "cell_type": "markdown",
   "metadata": {},
   "source": [
    "#### 'score' as label"
   ]
  },
  {
   "cell_type": "code",
   "execution_count": 23,
   "metadata": {},
   "outputs": [
    {
     "name": "stdout",
     "output_type": "stream",
     "text": [
      "Root Mean Squared Error (RMSE) on test data for 'score' = 1.25625\n"
     ]
    }
   ],
   "source": [
    "# Train model on 'score' label\n",
    "predictions_score = rf_regression(featuresCol=\"features\", labelCol=\"score\", training=training, test=test)\n",
    "\n",
    "evaluator_score = RegressionEvaluator(labelCol=\"score\", predictionCol=\"prediction\", metricName=\"rmse\")\n",
    "rmse_score = evaluator_score.evaluate(predictions_score)\n",
    "print(\"Root Mean Squared Error (RMSE) on test data for 'score' = %g\" % (rmse_score))"
   ]
  },
  {
   "cell_type": "code",
   "execution_count": 24,
   "metadata": {},
   "outputs": [
    {
     "name": "stdout",
     "output_type": "stream",
     "text": [
      "+-------+-----+------------------+\n",
      "|     id|score|        prediction|\n",
      "+-------+-----+------------------+\n",
      "|cqughbu|    1|0.8723324173558099|\n",
      "|cqugiii|    1|0.8723324173558099|\n",
      "|cqugnke|    1|0.8723324173558099|\n",
      "|cqugnzs|    1|0.8723324173558099|\n",
      "|cqugpu1|    1|0.8723324173558099|\n",
      "|cqugtqb|    1|0.8723324173558099|\n",
      "|cquh3ot|    0|0.8723324173558099|\n",
      "|cquhfa9|    1|0.8723324173558099|\n",
      "|cquk23e|    1|0.8723324173558099|\n",
      "|cquk566|    1|0.8723324173558099|\n",
      "+-------+-----+------------------+\n",
      "only showing top 10 rows\n",
      "\n"
     ]
    }
   ],
   "source": [
    "predictions_score.select('id', 'score', 'prediction').show(10)"
   ]
  }
 ],
 "metadata": {
  "kernelspec": {
   "display_name": "pySpark",
   "language": "python",
   "name": "pyspark"
  },
  "language_info": {
   "codemirror_mode": {
    "name": "ipython",
    "version": 3
   },
   "file_extension": ".py",
   "mimetype": "text/x-python",
   "name": "python",
   "nbconvert_exporter": "python",
   "pygments_lexer": "ipython3",
   "version": "3.6.8"
  }
 },
 "nbformat": 4,
 "nbformat_minor": 2
}
